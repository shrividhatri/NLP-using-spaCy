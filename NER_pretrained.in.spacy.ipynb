{
 "cells": [
  {
   "cell_type": "code",
   "execution_count": 1,
   "id": "02b9a488",
   "metadata": {},
   "outputs": [],
   "source": [
    "import spacy"
   ]
  },
  {
   "cell_type": "code",
   "execution_count": 2,
   "id": "b7628977",
   "metadata": {},
   "outputs": [],
   "source": [
    "import pandas as pd\n",
    "from spacy import displacy\n",
    "from spacy.matcher import Matcher"
   ]
  },
  {
   "cell_type": "code",
   "execution_count": 3,
   "id": "f965777e",
   "metadata": {},
   "outputs": [],
   "source": [
    "import en_core_web_sm\n",
    "nlp = en_core_web_sm.load()"
   ]
  },
  {
   "cell_type": "code",
   "execution_count": 4,
   "id": "fae59706",
   "metadata": {},
   "outputs": [
    {
     "data": {
      "text/html": [
       "<span class=\"tex2jax_ignore\"><div class=\"entities\" style=\"line-height: 2.5; direction: ltr\">This watch costs \n",
       "<mark class=\"entity\" style=\"background: #e4e7d2; padding: 0.45em 0.6em; margin: 0 0.25em; line-height: 1; border-radius: 0.35em;\">\n",
       "    10,000\n",
       "    <span style=\"font-size: 0.8em; font-weight: bold; line-height: 1; border-radius: 0.35em; text-transform: uppercase; vertical-align: middle; margin-left: 0.5rem\">CARDINAL</span>\n",
       "</mark>\n",
       " \n",
       "<mark class=\"entity\" style=\"background: #bfeeb7; padding: 0.45em 0.6em; margin: 0 0.25em; line-height: 1; border-radius: 0.35em;\">\n",
       "    Rs\n",
       "    <span style=\"font-size: 0.8em; font-weight: bold; line-height: 1; border-radius: 0.35em; text-transform: uppercase; vertical-align: middle; margin-left: 0.5rem\">PRODUCT</span>\n",
       "</mark>\n",
       " and it is one of the best products from \n",
       "<mark class=\"entity\" style=\"background: #7aecec; padding: 0.45em 0.6em; margin: 0 0.25em; line-height: 1; border-radius: 0.35em;\">\n",
       "    Apple\n",
       "    <span style=\"font-size: 0.8em; font-weight: bold; line-height: 1; border-radius: 0.35em; text-transform: uppercase; vertical-align: middle; margin-left: 0.5rem\">ORG</span>\n",
       "</mark>\n",
       "</div></span>"
      ],
      "text/plain": [
       "<IPython.core.display.HTML object>"
      ]
     },
     "metadata": {},
     "output_type": "display_data"
    }
   ],
   "source": [
    "doc = nlp(\"This watch costs 10,000 Rs and it is one of the best products from Apple\")\n",
    "displacy.render(doc,style=\"ent\")"
   ]
  },
  {
   "cell_type": "code",
   "execution_count": 7,
   "id": "37f09343",
   "metadata": {},
   "outputs": [],
   "source": [
    "text=[]\n",
    "text.append(\"I love how easy it is to disinfectant my counter without getting a disinfectant spray out using a cloth that may or may not be clean. Clorox wipes are so easy to use!! This review was collected as part of a promotion.\")\n",
    "text.append(\"I didn't know what to expect when I first tried these products but as soon as I started to pour out the conditioner I couldn't believe how thick and rich it was. I knew I was on to something good. The shampoo left my hair feeling so soft and easy to manage. The conditioner was a surprise too. Not the type that leaves you hair so soft that it is unmanageable. My scalp never felt so good after using these products. No itch here! The scent is not overpowering, just right! This review was collected as part of a promotion.\")\n",
    "text.append(\"These Clorox wipes are an excellent product. I can use them with confidence and know that what I am cleaning will be thoroughly cleaned and sanitized when I use them. They are convenient to use and great quality. This review was collected as part of a promotion.\")\n",
    "text.append(\"I use the disinfecting wipes in the bathroom mostly. They are great for cleaning and disinfecting the vanity top, getting up little smudges on the floor, cleaning the cup holder, etc. There are so many things I use it for and it does a great job on all of them. An added bonus to these is the smell. Not only do they work great, they smell good too.\")\n",
    "text.append(\"I love to vaccum my home every sunday using your perfect product\")\n",
    "text.append(\"These DVD's are so rad and fun\")\n",
    "text.append(\"This DVD set arrived in a timely manner, and so far I am enjoying this series. I look forward to watching more.\")\n",
    "text.append(\"love these wipes. Make cleaning the bathroom a breeze. Kitchen, too. Last a long time and are durable This review was collected as part of a promotion.\")\n",
    "text.append(\"This is the first time I used the cream, I usually use the liquid. It was awesome.\")\n",
    "text.append(\"Chester's Cheese Puffcorn is my go-to late night snack every night. I usually eat 2 - 2 1/2 bags a week. It is delicious and low in price. I tell all my friends about it.\")\n",
    "text.append(\"These little airy corn puffs are addictive!! I love them!\")\n",
    "text.append(\"I remember my mother using this cleaner as a kid. I needed to make sure the bathroom was free of any issues, seeing how we had some sickness this year. I was looking online for this cleaner, so glad I found a bottle. Now, just make it easier to buy. I only had one place in town that carried this on the shelf.\")"
   ]
  },
  {
   "cell_type": "code",
   "execution_count": 8,
   "id": "689800ed",
   "metadata": {},
   "outputs": [
    {
     "name": "stdout",
     "output_type": "stream",
     "text": [
      "Entities []\n",
      "Entities [('first', 'ORDINAL')]\n",
      "Entities [('Clorox', 'ORG')]\n",
      "Entities []\n",
      "Entities [('sunday', 'DATE')]\n",
      "Entities []\n",
      "Entities []\n",
      "Entities []\n",
      "Entities [('first', 'ORDINAL')]\n",
      "Entities [('Chester', 'PERSON'), ('Cheese Puffcorn', 'LOC'), ('late night', 'TIME'), ('2', 'CARDINAL')]\n",
      "Entities []\n",
      "Entities [('this year', 'DATE'), ('one', 'CARDINAL')]\n"
     ]
    }
   ],
   "source": [
    "for i in range(len(text)):\n",
    "    doc=nlp(text[i])\n",
    "    print(\"Entities\", [(ent.text, ent.label_) for ent in doc.ents])"
   ]
  },
  {
   "cell_type": "code",
   "execution_count": null,
   "id": "b20019c7",
   "metadata": {},
   "outputs": [],
   "source": []
  }
 ],
 "metadata": {
  "kernelspec": {
   "display_name": "Python 3",
   "language": "python",
   "name": "python3"
  },
  "language_info": {
   "codemirror_mode": {
    "name": "ipython",
    "version": 3
   },
   "file_extension": ".py",
   "mimetype": "text/x-python",
   "name": "python",
   "nbconvert_exporter": "python",
   "pygments_lexer": "ipython3",
   "version": "3.8.8"
  }
 },
 "nbformat": 4,
 "nbformat_minor": 5
}
