{
 "cells": [
  {
   "cell_type": "code",
   "execution_count": 1,
   "id": "d2163b8e",
   "metadata": {},
   "outputs": [],
   "source": [
    "f = open(\"test.txt\", \"r\")\n",
    "from ast import literal_eval\n",
    "from spacy import displacy"
   ]
  },
  {
   "cell_type": "code",
   "execution_count": 2,
   "id": "d4f2fddf",
   "metadata": {},
   "outputs": [],
   "source": [
    "test_data = []"
   ]
  },
  {
   "cell_type": "code",
   "execution_count": 3,
   "id": "cb4ecb85",
   "metadata": {},
   "outputs": [],
   "source": [
    "content = f.read()"
   ]
  },
  {
   "cell_type": "code",
   "execution_count": 4,
   "id": "e1a97462",
   "metadata": {},
   "outputs": [],
   "source": [
    "test = content.split(\"\\n\")"
   ]
  },
  {
   "cell_type": "code",
   "execution_count": 5,
   "id": "08776d76",
   "metadata": {},
   "outputs": [
    {
     "data": {
      "text/plain": [
       "5569"
      ]
     },
     "execution_count": 5,
     "metadata": {},
     "output_type": "execute_result"
    }
   ],
   "source": [
    "len(test)"
   ]
  },
  {
   "cell_type": "code",
   "execution_count": 6,
   "id": "cad1a6e5",
   "metadata": {},
   "outputs": [],
   "source": [
    "old_string = test[0]"
   ]
  },
  {
   "cell_type": "code",
   "execution_count": 8,
   "id": "788dbc1e",
   "metadata": {},
   "outputs": [
    {
     "name": "stdout",
     "output_type": "stream",
     "text": [
      "(\"Yes, I should have read the whole description, so I take part of the blame. However, I can't see how in any way how this rice could be considered RED as stated in the title above:A Gourmet Aromatic Whole Grain RED RiceNowhere on the front of the bag does it clarify that it's brown rice as it does on the back.I'm not saying it's bad rice, just that it's not RED as the title clearly states.There is a specific type of rice known as red rice. This is NOT it. When it arrived in the mail, the front label says RED RICE on the back it says it's brown rice.So, yes, I should have read the whole description closer, but just calling brown rice red on the label doesn't make it so.Disappointed, will not be buying any more Lundberg products. Sorry, but you ticked me off with your misleading labeling.\", {'entities': [(718, 726, 'PRODUCT')]})\n",
      "(\"Yes, I should have read the whole description, so I take part of the blame. However, I can't see how in any way how this rice could be considered RED as stated in the title above:A Gourmet Aromatic Whole Grain RED RiceNowhere on the front of the bag does it clarify that it's brown rice as it does on the back.I'm not saying it's bad rice, just that it's not RED as the title clearly states.There is a specific type of rice known as red rice. This is NOT it. When it arrived in the mail, the front label says RED RICE on the back it says it's brown rice.So, yes, I should have read the whole description closer, but just calling brown rice red on the label doesn't make it so.Disappointed, will not be buying any more Lundberg products. Sorry, but you ticked me off with your misleading labeling.\", {'entities': [(718, 726, 'PRODUCT')]})\n"
     ]
    }
   ],
   "source": [
    "print(old_string)\n",
    "new_string=literal_eval(old_string)\n",
    "print(new_string)"
   ]
  },
  {
   "cell_type": "code",
   "execution_count": 10,
   "id": "0562aae9",
   "metadata": {},
   "outputs": [
    {
     "data": {
      "text/plain": [
       "[(40, 44, 'PRODUCT')]"
      ]
     },
     "execution_count": 10,
     "metadata": {},
     "output_type": "execute_result"
    }
   ],
   "source": [
    "test_data = []\n",
    "for i in range(len(test)):\n",
    "    old_string = test[i]\n",
    "    new_string=literal_eval(old_string)\n",
    "    test_data.append(new_string)\n",
    "test_data[i][1][\"entities\"]"
   ]
  },
  {
   "cell_type": "code",
   "execution_count": 11,
   "id": "ac74c043",
   "metadata": {},
   "outputs": [
    {
     "name": "stdout",
     "output_type": "stream",
     "text": [
      "5569\n",
      "5569\n"
     ]
    }
   ],
   "source": [
    "start = []\n",
    "end =[]\n",
    "for i in range(len(test_data)):\n",
    "    for item in test_data[i][1][\"entities\"]:\n",
    "        start.append(item[0])\n",
    "        end.append(item[1])\n",
    "print(len(start))\n",
    "print(len(end))"
   ]
  },
  {
   "cell_type": "code",
   "execution_count": 12,
   "id": "04b0906c",
   "metadata": {},
   "outputs": [
    {
     "data": {
      "text/plain": [
       "\"I am trying to reduce the amount of Pesticides Herbicides in my diet, so I have been looking for Organic products and trying to avoid GMO since they are usually engineered to survive heavy dousing with Herbicides (Monsatan calls it Rndup Ready, like it is a good thing). Anyway, I enjoy sushi at home and have tried several brands of quality sushi rice in my Zojirushi cooker. This rice seemed not quite as flavorful, a little longer grain, and slightly more mushy than a couple of the super-premium (non-organic) brands I have tried. That being said, you can make Nigiri rolls with it and it works. It is expensive, but my local WallyWorld just started selling Lundberg at a lower price than this and I can just get a bag or 2 as I need it. I will use this rice when making rolls with lots of other ingredients and save the super-premium sushi rice for special occasions when making nigiri. If you can get sushi rice from Japan (they don't generally allow export of their good rice), get it as it is most likely organic, even if not labeled by our USDA. I am rooting for Lundberg and other organic/non-GMO producers and will continue to buy their products.\""
      ]
     },
     "execution_count": 12,
     "metadata": {},
     "output_type": "execute_result"
    }
   ],
   "source": [
    "test =[]\n",
    "for i in range(len(test_data)):\n",
    "    test.append(test_data[i][0])\n",
    "test[1]"
   ]
  },
  {
   "cell_type": "code",
   "execution_count": 24,
   "id": "e80b138a",
   "metadata": {},
   "outputs": [
    {
     "name": "stdout",
     "output_type": "stream",
     "text": [
      "Entities [(5, 6, 'CARDINAL'), (7, 8, 'CARDINAL')]\n",
      "662\n"
     ]
    }
   ],
   "source": [
    "doc = nlp(test[567])\n",
    "print(\"Entities\", [(ent.start, ent.end, ent.label_) for ent in doc.ents])\n",
    "for i in test_data[1][1][\"entities\"]:\n",
    "    print(i[0])"
   ]
  },
  {
   "cell_type": "code",
   "execution_count": 28,
   "id": "090c861f",
   "metadata": {},
   "outputs": [],
   "source": [
    "for i in range(len(test)):\n",
    "    if i==0:\n",
    "        f = open(\"pre-trained.txt\", \"w\")\n",
    "    else:\n",
    "        f = open(\"pre-trained.txt\", \"a\")\n",
    "    f.write(str(test[i]))\n",
    "    for j in range(len(test_data)):\n",
    "        for i in test_data[j][1][\"entities\"]:\n",
    "            f.write(str(i[0]))\n",
    "    if i != (len(test)-1):\n",
    "        f.write(\"\\n\")\n",
    "    f.close()"
   ]
  },
  {
   "cell_type": "code",
   "execution_count": 123,
   "id": "2aa7894a",
   "metadata": {},
   "outputs": [
    {
     "data": {
      "text/plain": [
       "'I have used Neutrogena Wet Skin many times since it first came out and its the best sunscreen I have ever used. I spray this in my hands to put on my face and spray and spread around on the rest of me. This will stick to my skin while I am still sweating, which is essential! I also do not have issues with sunscreen running in my eyes and stinging. I HIGHLY recommend this sunscreen. Be aware that it is more difficult to remove (good makeup wipes work great) and may stain lighter colored swimsuits.'"
      ]
     },
     "execution_count": 123,
     "metadata": {},
     "output_type": "execute_result"
    }
   ],
   "source": [
    "arr[0][0]"
   ]
  },
  {
   "cell_type": "code",
   "execution_count": 21,
   "id": "fd1e0795",
   "metadata": {},
   "outputs": [],
   "source": [
    "import spacy"
   ]
  },
  {
   "cell_type": "code",
   "execution_count": 22,
   "id": "0b6c34d9",
   "metadata": {},
   "outputs": [],
   "source": [
    "nlp=spacy.load('en_core_web_sm')"
   ]
  },
  {
   "cell_type": "code",
   "execution_count": 7,
   "id": "0c24799b",
   "metadata": {},
   "outputs": [
    {
     "name": "stdout",
     "output_type": "stream",
     "text": [
      "1\n",
      "Entities []\n"
     ]
    }
   ],
   "source": [
    "a = ()\n",
    "doc=nlp(\"whuuuuuu\")\n",
    "if doc.ents == ():\n",
    "    print(1)\n",
    "print(\"Entities\", [(ent.text, ent.label_) for ent in doc.ents])"
   ]
  },
  {
   "cell_type": "code",
   "execution_count": 26,
   "id": "6f67cc2d",
   "metadata": {},
   "outputs": [
    {
     "name": "stdout",
     "output_type": "stream",
     "text": [
      "Entities [('Olay', 'PRODUCT')]\n"
     ]
    }
   ],
   "source": [
    "from pathlib import Path\n",
    "#output_dir = Path('./')\n",
    "#print(\"Loading from\", output_dir)\n",
    "nlp_updated = spacy.load(Path('./'))\n",
    "doc = nlp_updated(\"Olay is great\")\n",
    "print(\"Entities\", [(ent.text, ent.label_) for ent in doc.ents])"
   ]
  },
  {
   "cell_type": "code",
   "execution_count": null,
   "id": "26c96a20",
   "metadata": {},
   "outputs": [],
   "source": []
  },
  {
   "cell_type": "code",
   "execution_count": 6,
   "id": "eac28f8b",
   "metadata": {},
   "outputs": [
    {
     "name": "stdout",
     "output_type": "stream",
     "text": [
      "2\n",
      "4\n"
     ]
    },
    {
     "data": {
      "text/plain": [
       "20"
      ]
     },
     "execution_count": 6,
     "metadata": {},
     "output_type": "execute_result"
    }
   ],
   "source": [
    "dicti = {}\n",
    "for i in range(5):\n",
    "    if i%2 == 0:\n",
    "        dicti[i] = i*5\n",
    "    \n",
    "    if i in dicti and (dicti[i] == 10 or dicti[i] == 20):\n",
    "        print(i)\n",
    "dicti[4]"
   ]
  },
  {
   "cell_type": "code",
   "execution_count": null,
   "id": "75148877",
   "metadata": {},
   "outputs": [],
   "source": []
  },
  {
   "cell_type": "code",
   "execution_count": null,
   "id": "6ed5a7a5",
   "metadata": {},
   "outputs": [],
   "source": []
  },
  {
   "cell_type": "code",
   "execution_count": null,
   "id": "b71a005a",
   "metadata": {},
   "outputs": [],
   "source": []
  },
  {
   "cell_type": "code",
   "execution_count": null,
   "id": "70108f47",
   "metadata": {},
   "outputs": [],
   "source": []
  },
  {
   "cell_type": "code",
   "execution_count": null,
   "id": "f167aa67",
   "metadata": {},
   "outputs": [],
   "source": []
  }
 ],
 "metadata": {
  "kernelspec": {
   "display_name": "Python 3",
   "language": "python",
   "name": "python3"
  },
  "language_info": {
   "codemirror_mode": {
    "name": "ipython",
    "version": 3
   },
   "file_extension": ".py",
   "mimetype": "text/x-python",
   "name": "python",
   "nbconvert_exporter": "python",
   "pygments_lexer": "ipython3",
   "version": "3.8.8"
  }
 },
 "nbformat": 4,
 "nbformat_minor": 5
}
