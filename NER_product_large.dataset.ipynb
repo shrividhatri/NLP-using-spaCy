{
 "cells": [
  {
   "cell_type": "code",
   "execution_count": 1,
   "id": "79654791",
   "metadata": {},
   "outputs": [],
   "source": [
    "import spacy\n",
    "import pandas as pd\n",
    "from spacy import displacy"
   ]
  },
  {
   "cell_type": "code",
   "execution_count": 2,
   "id": "52a2d9ba",
   "metadata": {},
   "outputs": [],
   "source": [
    "import en_core_web_sm"
   ]
  },
  {
   "cell_type": "code",
   "execution_count": 18,
   "id": "3536c103",
   "metadata": {},
   "outputs": [],
   "source": [
    "import random\n",
    "from spacy.util import minibatch, compounding\n",
    "from pathlib import Path"
   ]
  },
  {
   "cell_type": "code",
   "execution_count": 3,
   "id": "7e303bf5",
   "metadata": {},
   "outputs": [],
   "source": [
    "nlp = en_core_web_sm.load()"
   ]
  },
  {
   "cell_type": "code",
   "execution_count": 4,
   "id": "82a7e546",
   "metadata": {},
   "outputs": [],
   "source": [
    "ner=nlp.get_pipe(\"ner\")"
   ]
  },
  {
   "cell_type": "code",
   "execution_count": 5,
   "id": "e595495b",
   "metadata": {},
   "outputs": [],
   "source": [
    "import json"
   ]
  },
  {
   "cell_type": "code",
   "execution_count": 6,
   "id": "94df1755",
   "metadata": {},
   "outputs": [],
   "source": [
    "with open('training_data_large.json') as fp:\n",
    "    training_data = json.load(fp)"
   ]
  },
  {
   "cell_type": "code",
   "execution_count": 7,
   "id": "22253bf1",
   "metadata": {},
   "outputs": [
    {
     "data": {
      "text/plain": [
       "141"
      ]
     },
     "execution_count": 7,
     "metadata": {},
     "output_type": "execute_result"
    }
   ],
   "source": [
    "len(training_data[\"annotations\"])"
   ]
  },
  {
   "cell_type": "code",
   "execution_count": 15,
   "id": "5e83aba8",
   "metadata": {},
   "outputs": [
    {
     "name": "stdout",
     "output_type": "stream",
     "text": [
      "['these clorax wipes are amazing. i love them and their convenience. This review was collected as part of a promotion.', {'entities': [[13, 18, 'PRODUCT']]}]\n",
      "85\n",
      "['I received this product for testing purposes through Influenster and the way this makes the ends of my hair feel is phenomenal!!!! highly recommend', {'entities': []}]\n",
      "131\n"
     ]
    },
    {
     "data": {
      "text/plain": [
       "140"
      ]
     },
     "execution_count": 15,
     "metadata": {},
     "output_type": "execute_result"
    }
   ],
   "source": [
    "res = []\n",
    "for i in training_data[\"annotations\"]:\n",
    "    if i not in res:\n",
    "        res.append(i)       \n",
    "res.append(training_data[\"annotations\"][84])\n",
    "len(res)"
   ]
  },
  {
   "cell_type": "code",
   "execution_count": 19,
   "id": "065480d1",
   "metadata": {},
   "outputs": [],
   "source": [
    "for text, annotations in res:\n",
    "    for ent in annotations.get(\"entities\"):\n",
    "        ner.add_label(ent[2])"
   ]
  },
  {
   "cell_type": "code",
   "execution_count": 20,
   "id": "9908d4c2",
   "metadata": {},
   "outputs": [],
   "source": [
    "pipe_exceptions = [\"ner\", \"trf_wordpiecer\", \"trf_tok2vec\"]\n",
    "unaffected_pipes = [pipe for pipe in nlp.pipe_names if pipe not in pipe_exceptions]"
   ]
  },
  {
   "cell_type": "code",
   "execution_count": null,
   "id": "82428086",
   "metadata": {
    "scrolled": false
   },
   "outputs": [],
   "source": [
    "loss=[]\n",
    "all_loss=[]\n",
    "bat=[]\n",
    "i=0\n",
    "a=0\n",
    "b=0\n",
    "arr=[]\n",
    "with nlp.disable_pipes(*unaffected_pipes):\n",
    "    for iteration in range(30):\n",
    "        random.shuffle(res)\n",
    "        losses = {}\n",
    "        batches = minibatch(res, size=compounding(4.0, 32.0, 1.001))\n",
    "        for batch in batches:\n",
    "            texts, annotations = zip(*batch)\n",
    "            nlp.update(\n",
    "                    texts,  # batch of texts\n",
    "                    annotations,  # batch of annotations\n",
    "                    drop=0.5,  # dropout - make it harder to memorise data\n",
    "                    losses=losses,\n",
    "                )\n",
    "            i = i+1\n",
    "            #print(\"Losses\", losses)\n",
    "            all_loss.append(losses)\n",
    "            if losses['ner'] < 1:\n",
    "                #print(\"Losses\", losses)\n",
    "                loss.append(losses)\n",
    "                bat.append(batch)\n",
    "                #print(\"Number of loss values less than 1 for the ith iteration is\", len(loss))\n",
    "                arr.append(i)\n",
    "                print(\"i: \",i)\n",
    "                a=b\n",
    "                b=i\n",
    "                c=b-a\n",
    "                print(\"difference between this value and the previous one: \",c)\n",
    "                \n",
    "                #print(\"difference\",i-arr[j])"
   ]
  },
  {
   "cell_type": "code",
   "execution_count": 93,
   "id": "d6d9c09f",
   "metadata": {},
   "outputs": [],
   "source": [
    "text=[]\n",
    "text.append(\"I love how easy it is to disinfectant my counter without getting a disinfectant spray out using a cloth that may or may not be clean. Clorox wipes are so easy to use!! This review was collected as part of a promotion.\")\n",
    "text.append(\"I didn't know what to expect when I first tried these products but as soon as I started to pour out the conditioner I couldn't believe how thick and rich it was. I knew I was on to something good. The shampoo left my hair feeling so soft and easy to manage. The conditioner was a surprise too. Not the type that leaves you hair so soft that it is unmanageable. My scalp never felt so good after using these products. No itch here! The scent is not overpowering, just right! This review was collected as part of a promotion.\")\n",
    "text.append(\"These Clorox wipes are an excellent product. I can use them with confidence and know that what I am cleaning will be thoroughly cleaned and sanitized when I use them. They are convenient to use and great quality. This review was collected as part of a promotion.\")\n",
    "text.append(\"I use the disinfecting wipes in the bathroom mostly. They are great for cleaning and disinfecting the vanity top, getting up little smudges on the floor, cleaning the cup holder, etc. There are so many things I use it for and it does a great job on all of them. An added bonus to these is the smell. Not only do they work great, they smell good too.\")\n",
    "text.append(\"I love to vaccum my home every sunday using your perfect product\")\n",
    "text.append(\"These DVD's are so rad and fun\")\n",
    "text.append(\"This DVD set arrived in a timely manner, and so far I am enjoying this series. I look forward to watching more.\")\n",
    "text.append(\"love these wipes. Make cleaning the bathroom a breeze. Kitchen, too. Last a long time and are durable This review was collected as part of a promotion.\")\n",
    "text.append(\"This is the first time I used the cream, I usually use the liquid. It was awesome.\")\n",
    "text.append(\"Chester's Cheese Puffcorn is my go-to late night snack every night. I usually eat 2 - 2 1/2 bags a week. It is delicious and low in price. I tell all my friends about it.\")\n",
    "text.append(\"These little airy corn puffs are addictive!! I love them!\")\n",
    "text.append(\"I remember my mother using this cleaner as a kid. I needed to make sure the bathroom was free of any issues, seeing how we had some sickness this year. I was looking online for this cleaner, so glad I found a bottle. Now, just make it easier to buy. I only had one place in town that carried this on the shelf.\")"
   ]
  },
  {
   "cell_type": "code",
   "execution_count": 96,
   "id": "66ada6ff",
   "metadata": {},
   "outputs": [
    {
     "data": {
      "text/html": [
       "<span class=\"tex2jax_ignore\"><div class=\"entities\" style=\"line-height: 2.5; direction: ltr\">I love how easy it is to disinfectant my counter without getting a disinfectant spray out using a cloth that may or may not be clean. Clorox \n",
       "<mark class=\"entity\" style=\"background: #bfeeb7; padding: 0.45em 0.6em; margin: 0 0.25em; line-height: 1; border-radius: 0.35em;\">\n",
       "    wipes\n",
       "    <span style=\"font-size: 0.8em; font-weight: bold; line-height: 1; border-radius: 0.35em; text-transform: uppercase; vertical-align: middle; margin-left: 0.5rem\">PRODUCT</span>\n",
       "</mark>\n",
       " are so easy to use!! This review was collected as part of a promotion.</div></span>"
      ],
      "text/plain": [
       "<IPython.core.display.HTML object>"
      ]
     },
     "metadata": {},
     "output_type": "display_data"
    },
    {
     "data": {
      "text/html": [
       "<span class=\"tex2jax_ignore\"><div class=\"entities\" style=\"line-height: 2.5; direction: ltr\">I didn't know what to expect when I first tried these products but as soon as I started to pour out the \n",
       "<mark class=\"entity\" style=\"background: #bfeeb7; padding: 0.45em 0.6em; margin: 0 0.25em; line-height: 1; border-radius: 0.35em;\">\n",
       "    conditioner\n",
       "    <span style=\"font-size: 0.8em; font-weight: bold; line-height: 1; border-radius: 0.35em; text-transform: uppercase; vertical-align: middle; margin-left: 0.5rem\">PRODUCT</span>\n",
       "</mark>\n",
       " I couldn't believe how thick and rich it was. I knew I was on to something good. The \n",
       "<mark class=\"entity\" style=\"background: #bfeeb7; padding: 0.45em 0.6em; margin: 0 0.25em; line-height: 1; border-radius: 0.35em;\">\n",
       "    shampoo\n",
       "    <span style=\"font-size: 0.8em; font-weight: bold; line-height: 1; border-radius: 0.35em; text-transform: uppercase; vertical-align: middle; margin-left: 0.5rem\">PRODUCT</span>\n",
       "</mark>\n",
       " left my hair feeling so soft and easy to manage. The conditioner was a surprise too. Not the type that leaves you hair so soft that it is unmanageable. My scalp never felt so good after using these products. No itch here! The scent is not overpowering, just right! This review was collected as part of a promotion.</div></span>"
      ],
      "text/plain": [
       "<IPython.core.display.HTML object>"
      ]
     },
     "metadata": {},
     "output_type": "display_data"
    },
    {
     "data": {
      "text/html": [
       "<span class=\"tex2jax_ignore\"><div class=\"entities\" style=\"line-height: 2.5; direction: ltr\">These Clorox \n",
       "<mark class=\"entity\" style=\"background: #bfeeb7; padding: 0.45em 0.6em; margin: 0 0.25em; line-height: 1; border-radius: 0.35em;\">\n",
       "    wipes\n",
       "    <span style=\"font-size: 0.8em; font-weight: bold; line-height: 1; border-radius: 0.35em; text-transform: uppercase; vertical-align: middle; margin-left: 0.5rem\">PRODUCT</span>\n",
       "</mark>\n",
       " are an excellent product. I can use them with confidence and know that what I am cleaning will be thoroughly cleaned and sanitized when I use them. They are convenient to use and great quality. This review was collected as part of a promotion.</div></span>"
      ],
      "text/plain": [
       "<IPython.core.display.HTML object>"
      ]
     },
     "metadata": {},
     "output_type": "display_data"
    },
    {
     "data": {
      "text/html": [
       "<span class=\"tex2jax_ignore\"><div class=\"entities\" style=\"line-height: 2.5; direction: ltr\">I use the disinfecting \n",
       "<mark class=\"entity\" style=\"background: #bfeeb7; padding: 0.45em 0.6em; margin: 0 0.25em; line-height: 1; border-radius: 0.35em;\">\n",
       "    wipes\n",
       "    <span style=\"font-size: 0.8em; font-weight: bold; line-height: 1; border-radius: 0.35em; text-transform: uppercase; vertical-align: middle; margin-left: 0.5rem\">PRODUCT</span>\n",
       "</mark>\n",
       " in the bathroom mostly. They are great for cleaning and disinfecting the vanity top, getting up little smudges on the floor, cleaning the cup holder, etc. There are so many things I use it for and it does a great job on all of them. An added bonus to these is the smell. Not only do they work great, they smell good too.</div></span>"
      ],
      "text/plain": [
       "<IPython.core.display.HTML object>"
      ]
     },
     "metadata": {},
     "output_type": "display_data"
    },
    {
     "data": {
      "text/html": [
       "<span class=\"tex2jax_ignore\"><div class=\"entities\" style=\"line-height: 2.5; direction: ltr\">I love to \n",
       "<mark class=\"entity\" style=\"background: #bfeeb7; padding: 0.45em 0.6em; margin: 0 0.25em; line-height: 1; border-radius: 0.35em;\">\n",
       "    vaccum\n",
       "    <span style=\"font-size: 0.8em; font-weight: bold; line-height: 1; border-radius: 0.35em; text-transform: uppercase; vertical-align: middle; margin-left: 0.5rem\">PRODUCT</span>\n",
       "</mark>\n",
       " my home every sunday using your perfect product</div></span>"
      ],
      "text/plain": [
       "<IPython.core.display.HTML object>"
      ]
     },
     "metadata": {},
     "output_type": "display_data"
    },
    {
     "data": {
      "text/html": [
       "<span class=\"tex2jax_ignore\"><div class=\"entities\" style=\"line-height: 2.5; direction: ltr\">These \n",
       "<mark class=\"entity\" style=\"background: #bfeeb7; padding: 0.45em 0.6em; margin: 0 0.25em; line-height: 1; border-radius: 0.35em;\">\n",
       "    DVD\n",
       "    <span style=\"font-size: 0.8em; font-weight: bold; line-height: 1; border-radius: 0.35em; text-transform: uppercase; vertical-align: middle; margin-left: 0.5rem\">PRODUCT</span>\n",
       "</mark>\n",
       "'s are so rad and fun</div></span>"
      ],
      "text/plain": [
       "<IPython.core.display.HTML object>"
      ]
     },
     "metadata": {},
     "output_type": "display_data"
    },
    {
     "data": {
      "text/html": [
       "<span class=\"tex2jax_ignore\"><div class=\"entities\" style=\"line-height: 2.5; direction: ltr\">This \n",
       "<mark class=\"entity\" style=\"background: #bfeeb7; padding: 0.45em 0.6em; margin: 0 0.25em; line-height: 1; border-radius: 0.35em;\">\n",
       "    DVD\n",
       "    <span style=\"font-size: 0.8em; font-weight: bold; line-height: 1; border-radius: 0.35em; text-transform: uppercase; vertical-align: middle; margin-left: 0.5rem\">PRODUCT</span>\n",
       "</mark>\n",
       " set arrived in a timely manner, and so far I am enjoying this series. I look forward to watching more.</div></span>"
      ],
      "text/plain": [
       "<IPython.core.display.HTML object>"
      ]
     },
     "metadata": {},
     "output_type": "display_data"
    },
    {
     "data": {
      "text/html": [
       "<span class=\"tex2jax_ignore\"><div class=\"entities\" style=\"line-height: 2.5; direction: ltr\">love these \n",
       "<mark class=\"entity\" style=\"background: #bfeeb7; padding: 0.45em 0.6em; margin: 0 0.25em; line-height: 1; border-radius: 0.35em;\">\n",
       "    wipes.\n",
       "    <span style=\"font-size: 0.8em; font-weight: bold; line-height: 1; border-radius: 0.35em; text-transform: uppercase; vertical-align: middle; margin-left: 0.5rem\">PRODUCT</span>\n",
       "</mark>\n",
       " Make cleaning the bathroom a breeze. Kitchen, too. Last a long time and are durable This review was collected as part of a promotion.</div></span>"
      ],
      "text/plain": [
       "<IPython.core.display.HTML object>"
      ]
     },
     "metadata": {},
     "output_type": "display_data"
    },
    {
     "data": {
      "text/html": [
       "<span class=\"tex2jax_ignore\"><div class=\"entities\" style=\"line-height: 2.5; direction: ltr\">This is the first time I used the \n",
       "<mark class=\"entity\" style=\"background: #bfeeb7; padding: 0.45em 0.6em; margin: 0 0.25em; line-height: 1; border-radius: 0.35em;\">\n",
       "    cream\n",
       "    <span style=\"font-size: 0.8em; font-weight: bold; line-height: 1; border-radius: 0.35em; text-transform: uppercase; vertical-align: middle; margin-left: 0.5rem\">PRODUCT</span>\n",
       "</mark>\n",
       ", I usually use the liquid. It was awesome.</div></span>"
      ],
      "text/plain": [
       "<IPython.core.display.HTML object>"
      ]
     },
     "metadata": {},
     "output_type": "display_data"
    },
    {
     "data": {
      "text/html": [
       "<span class=\"tex2jax_ignore\"><div class=\"entities\" style=\"line-height: 2.5; direction: ltr\">Chester's Cheese \n",
       "<mark class=\"entity\" style=\"background: #bfeeb7; padding: 0.45em 0.6em; margin: 0 0.25em; line-height: 1; border-radius: 0.35em;\">\n",
       "    Puffcorn\n",
       "    <span style=\"font-size: 0.8em; font-weight: bold; line-height: 1; border-radius: 0.35em; text-transform: uppercase; vertical-align: middle; margin-left: 0.5rem\">PRODUCT</span>\n",
       "</mark>\n",
       " is my go-to late night snack every night. I usually eat 2 - 2 1/2 bags a week. It is delicious and low in price. I tell all my friends about it.</div></span>"
      ],
      "text/plain": [
       "<IPython.core.display.HTML object>"
      ]
     },
     "metadata": {},
     "output_type": "display_data"
    },
    {
     "data": {
      "text/html": [
       "<span class=\"tex2jax_ignore\"><div class=\"entities\" style=\"line-height: 2.5; direction: ltr\">These little airy \n",
       "<mark class=\"entity\" style=\"background: #bfeeb7; padding: 0.45em 0.6em; margin: 0 0.25em; line-height: 1; border-radius: 0.35em;\">\n",
       "    corn\n",
       "    <span style=\"font-size: 0.8em; font-weight: bold; line-height: 1; border-radius: 0.35em; text-transform: uppercase; vertical-align: middle; margin-left: 0.5rem\">PRODUCT</span>\n",
       "</mark>\n",
       " puffs are addictive!! I love them!</div></span>"
      ],
      "text/plain": [
       "<IPython.core.display.HTML object>"
      ]
     },
     "metadata": {},
     "output_type": "display_data"
    },
    {
     "data": {
      "text/html": [
       "<span class=\"tex2jax_ignore\"><div class=\"entities\" style=\"line-height: 2.5; direction: ltr\">I remember my mother using this \n",
       "<mark class=\"entity\" style=\"background: #bfeeb7; padding: 0.45em 0.6em; margin: 0 0.25em; line-height: 1; border-radius: 0.35em;\">\n",
       "    cleaner\n",
       "    <span style=\"font-size: 0.8em; font-weight: bold; line-height: 1; border-radius: 0.35em; text-transform: uppercase; vertical-align: middle; margin-left: 0.5rem\">PRODUCT</span>\n",
       "</mark>\n",
       " as a kid. I needed to make sure the bathroom was free of any issues, seeing how we had some sickness this year. I was looking online for this cleaner, so glad I found a bottle. Now, just make it easier to buy. I only had one place in town that carried this on the shelf.</div></span>"
      ],
      "text/plain": [
       "<IPython.core.display.HTML object>"
      ]
     },
     "metadata": {},
     "output_type": "display_data"
    }
   ],
   "source": [
    "for i in range(len(text)):\n",
    "    doc=nlp(text[i])\n",
    "    #print(\"Entities\", [(ent.text, ent.label_) for ent in doc.ents])\n",
    "    displacy.render(doc,style=\"ent\")"
   ]
  },
  {
   "cell_type": "code",
   "execution_count": null,
   "id": "5b1a5470",
   "metadata": {},
   "outputs": [],
   "source": []
  }
 ],
 "metadata": {
  "kernelspec": {
   "display_name": "Python 3",
   "language": "python",
   "name": "python3"
  },
  "language_info": {
   "codemirror_mode": {
    "name": "ipython",
    "version": 3
   },
   "file_extension": ".py",
   "mimetype": "text/x-python",
   "name": "python",
   "nbconvert_exporter": "python",
   "pygments_lexer": "ipython3",
   "version": "3.8.8"
  }
 },
 "nbformat": 4,
 "nbformat_minor": 5
}
