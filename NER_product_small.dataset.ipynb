{
 "cells": [
  {
   "cell_type": "code",
   "execution_count": 3,
   "id": "2f73f276",
   "metadata": {},
   "outputs": [],
   "source": [
    "import spacy"
   ]
  },
  {
   "cell_type": "code",
   "execution_count": 4,
   "id": "80e12b31",
   "metadata": {},
   "outputs": [],
   "source": [
    "import pandas as pd\n",
    "from spacy import displacy\n",
    "from spacy.matcher import Matcher"
   ]
  },
  {
   "cell_type": "code",
   "execution_count": 5,
   "id": "e5d8a4e8",
   "metadata": {},
   "outputs": [],
   "source": [
    "import en_core_web_sm\n"
   ]
  },
  {
   "cell_type": "code",
   "execution_count": 6,
   "id": "a3ab468e",
   "metadata": {},
   "outputs": [],
   "source": [
    "nlp = en_core_web_sm.load()"
   ]
  },
  {
   "cell_type": "code",
   "execution_count": 7,
   "id": "c48a8add",
   "metadata": {},
   "outputs": [],
   "source": [
    "ner=nlp.get_pipe(\"ner\")"
   ]
  },
  {
   "cell_type": "code",
   "execution_count": 8,
   "id": "1896e0a4",
   "metadata": {},
   "outputs": [],
   "source": [
    "import json"
   ]
  },
  {
   "cell_type": "code",
   "execution_count": 9,
   "id": "37fcfdab",
   "metadata": {},
   "outputs": [],
   "source": [
    "with open('training_data.json') as fp:\n",
    "    training_data = json.load(fp)\n",
    "with open('training_data_new.json') as fp:\n",
    "    training_data2 = json.load(fp)   "
   ]
  },
  {
   "cell_type": "code",
   "execution_count": 10,
   "id": "5edaf277",
   "metadata": {},
   "outputs": [
    {
     "data": {
      "text/plain": [
       "30"
      ]
     },
     "execution_count": 10,
     "metadata": {},
     "output_type": "execute_result"
    }
   ],
   "source": [
    "for i in range(len(training_data2[\"annotations\"])):\n",
    "    a = training_data2[\"annotations\"][i]\n",
    "    training_data2[\"annotations\"].append(a)\n",
    "len(training_data[\"annotations\"])"
   ]
  },
  {
   "cell_type": "code",
   "execution_count": 11,
   "id": "e6c9e43a",
   "metadata": {},
   "outputs": [],
   "source": [
    "res = []\n",
    "for i in training_data[\"annotations\"]:\n",
    "    if i not in res:\n",
    "        res.append(i)"
   ]
  },
  {
   "cell_type": "code",
   "execution_count": 12,
   "id": "20f8e2c1",
   "metadata": {},
   "outputs": [],
   "source": [
    "for text, annotations in res:\n",
    "    for ent in annotations.get(\"entities\"):\n",
    "        ner.add_label(ent[2])"
   ]
  },
  {
   "cell_type": "code",
   "execution_count": 13,
   "id": "14cb37be",
   "metadata": {},
   "outputs": [],
   "source": [
    "pipe_exceptions = [\"ner\", \"trf_wordpiecer\", \"trf_tok2vec\"]\n",
    "unaffected_pipes = [pipe for pipe in nlp.pipe_names if pipe not in pipe_exceptions]"
   ]
  },
  {
   "cell_type": "code",
   "execution_count": 14,
   "id": "c53e6c7d",
   "metadata": {},
   "outputs": [],
   "source": [
    "import random\n",
    "from spacy.util import minibatch, compounding\n",
    "from pathlib import Path"
   ]
  },
  {
   "cell_type": "code",
   "execution_count": 15,
   "id": "ed94c293",
   "metadata": {},
   "outputs": [
    {
     "name": "stderr",
     "output_type": "stream",
     "text": [
      "C:\\Users\\user\\anaconda3\\lib\\site-packages\\spacy\\language.py:479: UserWarning: [W030] Some entities could not be aligned in the text \"Don't buy this until you've looked at all of the e...\" with entities \"[[95, 105, 'PRODUCT']]\". Use `spacy.gold.biluo_tags_from_offsets(nlp.make_doc(text), entities)` to check the alignment. Misaligned entities ('-') will be ignored during training.\n",
      "  gold = GoldParse(doc, **gold)\n"
     ]
    },
    {
     "name": "stdout",
     "output_type": "stream",
     "text": [
      "difference between this value and the previous one:  145\n",
      "i:  145\n",
      "difference between this value and the previous one:  8\n",
      "i:  153\n",
      "difference between this value and the previous one:  40\n",
      "i:  193\n",
      "difference between this value and the previous one:  8\n",
      "i:  201\n",
      "difference between this value and the previous one:  16\n",
      "i:  217\n"
     ]
    }
   ],
   "source": [
    "a=0\n",
    "b=0\n",
    "c=0\n",
    "loss=[]\n",
    "all_loss=[]\n",
    "bat=[]\n",
    "i=0\n",
    "with nlp.disable_pipes(*unaffected_pipes):\n",
    "    for iteration in range(30):\n",
    "        random.shuffle(res)\n",
    "        losses = {}\n",
    "        batches = minibatch(res, size=compounding(4.0, 32.0, 1.001))\n",
    "        for batch in batches:\n",
    "            texts, annotations = zip(*batch)\n",
    "            nlp.update(\n",
    "                    texts,  # batch of texts\n",
    "                    annotations,  # batch of annotations\n",
    "                    drop=0.5,  # dropout - make it harder to memorise data\n",
    "                    losses=losses,\n",
    "                )\n",
    "            i=i+1\n",
    "            #print(\"Losses\", losses)\n",
    "            all_loss.append(losses)\n",
    "            if losses['ner'] < 1:\n",
    "                #print(\"Losses\", losses)\n",
    "                loss.append(losses)\n",
    "                bat.append(batch)\n",
    "                #print(len(loss))\n",
    "                a=b\n",
    "                b=i\n",
    "                c=b-a\n",
    "                print(\"difference between this value and the previous one: \",c)\n",
    "                print(\"i: \",i)"
   ]
  },
  {
   "cell_type": "code",
   "execution_count": 16,
   "id": "1cce4a36",
   "metadata": {},
   "outputs": [],
   "source": [
    "text=[]\n",
    "text.append(\"I love how easy it is to disinfectant my counter without getting a disinfectant spray out using a cloth that may or may not be clean. Clorox wipes are so easy to use!! This review was collected as part of a promotion.\")\n",
    "text.append(\"I didn't know what to expect when I first tried these products but as soon as I started to pour out the conditioner I couldn't believe how thick and rich it was. I knew I was on to something good. The shampoo left my hair feeling so soft and easy to manage. The conditioner was a surprise too. Not the type that leaves you hair so soft that it is unmanageable. My scalp never felt so good after using these products. No itch here! The scent is not overpowering, just right! This review was collected as part of a promotion.\")\n",
    "text.append(\"These Clorox wipes are an excellent product. I can use them with confidence and know that what I am cleaning will be thoroughly cleaned and sanitized when I use them. They are convenient to use and great quality. This review was collected as part of a promotion.\")\n",
    "text.append(\"I use the disinfecting wipes in the bathroom mostly. They are great for cleaning and disinfecting the vanity top, getting up little smudges on the floor, cleaning the cup holder, etc. There are so many things I use it for and it does a great job on all of them. An added bonus to these is the smell. Not only do they work great, they smell good too.\")\n",
    "text.append(\"I love to vaccum my home every sunday using your perfect product\")\n",
    "text.append(\"These DVD's are so rad and fun\")\n",
    "text.append(\"This DVD set arrived in a timely manner, and so far I am enjoying this series. I look forward to watching more.\")\n",
    "text.append(\"love these wipes. Make cleaning the bathroom a breeze. Kitchen, too. Last a long time and are durable This review was collected as part of a promotion.\")\n",
    "text.append(\"This is the first time I used the cream, I usually use the liquid. It was awesome.\")\n",
    "text.append(\"Chester's Cheese Puffcorn is my go-to late night snack every night. I usually eat 2 - 2 1/2 bags a week. It is delicious and low in price. I tell all my friends about it.\")\n",
    "text.append(\"These little airy corn puffs are addictive!! I love them!\")\n",
    "text.append(\"I remember my mother using this cleaner as a kid. I needed to make sure the bathroom was free of any issues, seeing how we had some sickness this year. I was looking online for this cleaner, so glad I found a bottle. Now, just make it easier to buy. I only had one place in town that carried this on the shelf.\")"
   ]
  },
  {
   "cell_type": "code",
   "execution_count": 17,
   "id": "5e840fa9",
   "metadata": {},
   "outputs": [
    {
     "name": "stderr",
     "output_type": "stream",
     "text": [
      "C:\\Users\\user\\anaconda3\\lib\\site-packages\\spacy\\displacy\\__init__.py:189: UserWarning: [W006] No entities to visualize found in Doc object. If this is surprising to you, make sure the Doc was processed using a model that supports named entity recognition, and check the `doc.ents` property manually if necessary.\n",
      "  warnings.warn(Warnings.W006)\n"
     ]
    },
    {
     "data": {
      "text/html": [
       "<span class=\"tex2jax_ignore\"><div class=\"entities\" style=\"line-height: 2.5; direction: ltr\">I love how easy it is to disinfectant my counter without getting a disinfectant spray out using a cloth that may or may not be clean. Clorox wipes are so easy to use!! This review was collected as part of a promotion.</div></span>"
      ],
      "text/plain": [
       "<IPython.core.display.HTML object>"
      ]
     },
     "metadata": {},
     "output_type": "display_data"
    },
    {
     "data": {
      "text/html": [
       "<span class=\"tex2jax_ignore\"><div class=\"entities\" style=\"line-height: 2.5; direction: ltr\">I didn't know what to expect when I first tried these products but as soon as I started to pour out the \n",
       "<mark class=\"entity\" style=\"background: #bfeeb7; padding: 0.45em 0.6em; margin: 0 0.25em; line-height: 1; border-radius: 0.35em;\">\n",
       "    conditioner\n",
       "    <span style=\"font-size: 0.8em; font-weight: bold; line-height: 1; border-radius: 0.35em; text-transform: uppercase; vertical-align: middle; margin-left: 0.5rem\">PRODUCT</span>\n",
       "</mark>\n",
       " I couldn't believe how thick and rich it was. I knew I was on to something good. The shampoo left my hair feeling so soft and easy to manage. The \n",
       "<mark class=\"entity\" style=\"background: #bfeeb7; padding: 0.45em 0.6em; margin: 0 0.25em; line-height: 1; border-radius: 0.35em;\">\n",
       "    conditioner\n",
       "    <span style=\"font-size: 0.8em; font-weight: bold; line-height: 1; border-radius: 0.35em; text-transform: uppercase; vertical-align: middle; margin-left: 0.5rem\">PRODUCT</span>\n",
       "</mark>\n",
       " was a surprise too. Not the type that leaves you hair so soft that it is unmanageable. My scalp never felt so good after using these products. No itch here! The scent is not overpowering, just right! This review was collected as part of a promotion.</div></span>"
      ],
      "text/plain": [
       "<IPython.core.display.HTML object>"
      ]
     },
     "metadata": {},
     "output_type": "display_data"
    },
    {
     "data": {
      "text/html": [
       "<span class=\"tex2jax_ignore\"><div class=\"entities\" style=\"line-height: 2.5; direction: ltr\">These \n",
       "<mark class=\"entity\" style=\"background: #bfeeb7; padding: 0.45em 0.6em; margin: 0 0.25em; line-height: 1; border-radius: 0.35em;\">\n",
       "    Clorox\n",
       "    <span style=\"font-size: 0.8em; font-weight: bold; line-height: 1; border-radius: 0.35em; text-transform: uppercase; vertical-align: middle; margin-left: 0.5rem\">PRODUCT</span>\n",
       "</mark>\n",
       " wipes are an excellent product. I can use them with confidence and know that what I am cleaning will be thoroughly cleaned and sanitized when I use them. They are convenient to use and great quality. This review was collected as part of a promotion.</div></span>"
      ],
      "text/plain": [
       "<IPython.core.display.HTML object>"
      ]
     },
     "metadata": {},
     "output_type": "display_data"
    },
    {
     "data": {
      "text/html": [
       "<span class=\"tex2jax_ignore\"><div class=\"entities\" style=\"line-height: 2.5; direction: ltr\">I use the disinfecting wipes in the bathroom mostly. They are great for cleaning and disinfecting the vanity top, getting up little smudges on the \n",
       "<mark class=\"entity\" style=\"background: #bfeeb7; padding: 0.45em 0.6em; margin: 0 0.25em; line-height: 1; border-radius: 0.35em;\">\n",
       "    floor\n",
       "    <span style=\"font-size: 0.8em; font-weight: bold; line-height: 1; border-radius: 0.35em; text-transform: uppercase; vertical-align: middle; margin-left: 0.5rem\">PRODUCT</span>\n",
       "</mark>\n",
       ", cleaning the cup holder, etc. There are so many things I use it for and it does a great job on all of them. An added bonus to these is the smell. Not only do they work great, they smell good too.</div></span>"
      ],
      "text/plain": [
       "<IPython.core.display.HTML object>"
      ]
     },
     "metadata": {},
     "output_type": "display_data"
    },
    {
     "data": {
      "text/html": [
       "<span class=\"tex2jax_ignore\"><div class=\"entities\" style=\"line-height: 2.5; direction: ltr\">I love to vaccum my home every sunday using your perfect product</div></span>"
      ],
      "text/plain": [
       "<IPython.core.display.HTML object>"
      ]
     },
     "metadata": {},
     "output_type": "display_data"
    },
    {
     "data": {
      "text/html": [
       "<span class=\"tex2jax_ignore\"><div class=\"entities\" style=\"line-height: 2.5; direction: ltr\">These DVD's are so rad and fun</div></span>"
      ],
      "text/plain": [
       "<IPython.core.display.HTML object>"
      ]
     },
     "metadata": {},
     "output_type": "display_data"
    },
    {
     "data": {
      "text/html": [
       "<span class=\"tex2jax_ignore\"><div class=\"entities\" style=\"line-height: 2.5; direction: ltr\">This \n",
       "<mark class=\"entity\" style=\"background: #bfeeb7; padding: 0.45em 0.6em; margin: 0 0.25em; line-height: 1; border-radius: 0.35em;\">\n",
       "    DVD\n",
       "    <span style=\"font-size: 0.8em; font-weight: bold; line-height: 1; border-radius: 0.35em; text-transform: uppercase; vertical-align: middle; margin-left: 0.5rem\">PRODUCT</span>\n",
       "</mark>\n",
       " set arrived in a timely manner, and so far I am enjoying this series. I look forward to watching more.</div></span>"
      ],
      "text/plain": [
       "<IPython.core.display.HTML object>"
      ]
     },
     "metadata": {},
     "output_type": "display_data"
    },
    {
     "data": {
      "text/html": [
       "<span class=\"tex2jax_ignore\"><div class=\"entities\" style=\"line-height: 2.5; direction: ltr\">love these wipes. Make cleaning the bathroom a breeze. Kitchen, too. Last a long time and are durable This review was collected as part of a promotion.</div></span>"
      ],
      "text/plain": [
       "<IPython.core.display.HTML object>"
      ]
     },
     "metadata": {},
     "output_type": "display_data"
    },
    {
     "data": {
      "text/html": [
       "<span class=\"tex2jax_ignore\"><div class=\"entities\" style=\"line-height: 2.5; direction: ltr\">This is the first time I used the \n",
       "<mark class=\"entity\" style=\"background: #bfeeb7; padding: 0.45em 0.6em; margin: 0 0.25em; line-height: 1; border-radius: 0.35em;\">\n",
       "    cream\n",
       "    <span style=\"font-size: 0.8em; font-weight: bold; line-height: 1; border-radius: 0.35em; text-transform: uppercase; vertical-align: middle; margin-left: 0.5rem\">PRODUCT</span>\n",
       "</mark>\n",
       ", I usually use the liquid. It was awesome.</div></span>"
      ],
      "text/plain": [
       "<IPython.core.display.HTML object>"
      ]
     },
     "metadata": {},
     "output_type": "display_data"
    },
    {
     "data": {
      "text/html": [
       "<span class=\"tex2jax_ignore\"><div class=\"entities\" style=\"line-height: 2.5; direction: ltr\">Chester's Cheese Puffcorn is my go-to late night snack every night. I usually eat 2 - 2 1/2 bags a week. It is delicious and low in price. I tell all my friends about it.</div></span>"
      ],
      "text/plain": [
       "<IPython.core.display.HTML object>"
      ]
     },
     "metadata": {},
     "output_type": "display_data"
    },
    {
     "data": {
      "text/html": [
       "<span class=\"tex2jax_ignore\"><div class=\"entities\" style=\"line-height: 2.5; direction: ltr\">These little airy corn puffs are addictive!! I love them!</div></span>"
      ],
      "text/plain": [
       "<IPython.core.display.HTML object>"
      ]
     },
     "metadata": {},
     "output_type": "display_data"
    },
    {
     "data": {
      "text/html": [
       "<span class=\"tex2jax_ignore\"><div class=\"entities\" style=\"line-height: 2.5; direction: ltr\">I remember my mother using this \n",
       "<mark class=\"entity\" style=\"background: #bfeeb7; padding: 0.45em 0.6em; margin: 0 0.25em; line-height: 1; border-radius: 0.35em;\">\n",
       "    cleaner\n",
       "    <span style=\"font-size: 0.8em; font-weight: bold; line-height: 1; border-radius: 0.35em; text-transform: uppercase; vertical-align: middle; margin-left: 0.5rem\">PRODUCT</span>\n",
       "</mark>\n",
       " as a kid. I needed to make sure the bathroom was free of any issues, seeing how we had some sickness this year. I was looking online for this cleaner, so glad I found a bottle. Now, just make it easier to buy. I only had one place in town that carried this on the shelf.</div></span>"
      ],
      "text/plain": [
       "<IPython.core.display.HTML object>"
      ]
     },
     "metadata": {},
     "output_type": "display_data"
    }
   ],
   "source": [
    "for i in range(len(text)):\n",
    "    doc=nlp(text[i])\n",
    "    #print(\"Entities\", [(ent.text, ent.label_) for ent in doc.ents])\n",
    "    displacy.render(doc,style=\"ent\")"
   ]
  },
  {
   "cell_type": "code",
   "execution_count": null,
   "id": "4472ebcc",
   "metadata": {},
   "outputs": [],
   "source": []
  }
 ],
 "metadata": {
  "kernelspec": {
   "display_name": "Python 3",
   "language": "python",
   "name": "python3"
  },
  "language_info": {
   "codemirror_mode": {
    "name": "ipython",
    "version": 3
   },
   "file_extension": ".py",
   "mimetype": "text/x-python",
   "name": "python",
   "nbconvert_exporter": "python",
   "pygments_lexer": "ipython3",
   "version": "3.8.8"
  }
 },
 "nbformat": 4,
 "nbformat_minor": 5
}
